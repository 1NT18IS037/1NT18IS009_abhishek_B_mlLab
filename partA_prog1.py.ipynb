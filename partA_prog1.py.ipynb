{
 "cells": [
  {
   "cell_type": "code",
   "execution_count": 1,
   "metadata": {},
   "outputs": [],
   "source": [
    "import math\n",
    "import statistics as st\n",
    "from collections import Counter\n",
    "list=[115.3,195.5,120.5,110.2,90.4,105.6,110.9,116.3,122.3,125.4]"
   ]
  },
  {
   "cell_type": "code",
   "execution_count": 3,
   "metadata": {},
   "outputs": [],
   "source": [
    "def cal_mean(data):\n",
    "    s=sum(data)\n",
    "    n=len(data)\n",
    "    mean=s/n\n",
    "    return mean"
   ]
  },
  {
   "cell_type": "code",
   "execution_count": 4,
   "metadata": {},
   "outputs": [],
   "source": [
    "def cal_median(data):\n",
    "    N=len(data)\n",
    "    data.sort()\n",
    "    if N % 2 == 0:\n",
    "        median1 = N/2\n",
    "        median2 = N/2 + 1\n",
    "        median1 = int(median1) - 1\n",
    "        median2 = int(median2) - 1\n",
    "        median = (data[median1] + data[median2]) / 2\n",
    "    else:\n",
    "        median = (N + 1) / 2\n",
    "        median = int(median) - 1\n",
    "        median = data[median]\n",
    "    return median"
   ]
  },
  {
   "cell_type": "code",
   "execution_count": 5,
   "metadata": {},
   "outputs": [
    {
     "name": "stdout",
     "output_type": "stream",
     "text": [
      "mean: 121.24000000000001\n",
      "median: 115.8\n"
     ]
    }
   ],
   "source": [
    "print('mean:',cal_mean(list))\n",
    "print('median:',cal_median(list))"
   ]
  },
  {
   "cell_type": "code",
   "execution_count": 10,
   "metadata": {},
   "outputs": [],
   "source": [
    "def cal_mode(data):\n",
    "    n=len(data)\n",
    "    c = Counter(data)\n",
    "    mod=[k for k, v in c.items() if v == c.most_common(1)[0][1]]\n",
    "    if(len(mod)==n):\n",
    "        print(\"No mode found \")\n",
    "    else:\n",
    "        print(\"Mode:\",mod)"
   ]
  },
  {
   "cell_type": "code",
   "execution_count": 11,
   "metadata": {},
   "outputs": [
    {
     "name": "stdout",
     "output_type": "stream",
     "text": [
      "No mode found \n"
     ]
    }
   ],
   "source": [
    "cal_mode(list)"
   ]
  },
  {
   "cell_type": "code",
   "execution_count": 17,
   "metadata": {},
   "outputs": [
    {
     "name": "stdout",
     "output_type": "stream",
     "text": [
      "Variance = 701.7724\n",
      "standard deviation = 26.490987146574962\n"
     ]
    }
   ],
   "source": [
    "var=sum((x-cal_mean(list))**2 for x in list) / len(list)\n",
    "print(\"Variance =\",var)\n",
    "print(\"standard deviation =\",var**0.5)"
   ]
  },
  {
   "cell_type": "code",
   "execution_count": 2,
   "metadata": {},
   "outputs": [
    {
     "name": "stdout",
     "output_type": "stream",
     "text": [
      "[0.0, 0.145, 0.188, 0.195, 0.237, 0.246, 0.286, 0.304, 0.333, 1.0]\n",
      "[-1.104, -0.56, -0.395, -0.37, -0.213, -0.177, -0.027, 0.038, 0.149, 2.659]\n"
     ]
    }
   ],
   "source": [
    "def normalise(l):\n",
    "    l.sort()\n",
    "    nl = []\n",
    "    minel = min(l)\n",
    "    maxel = max(l)\n",
    "    for i in l:\n",
    "        nl.append(round((i - minel)/(maxel - minel),3))\n",
    "    return nl\n",
    "\n",
    "def standardise(l):\n",
    "    l.sort()\n",
    "    nl = []\n",
    "    mean = st.mean(l)\n",
    "    std = st.stdev(l)\n",
    "    for i in l:\n",
    "        nl.append(round((i - mean)/std, 3))\n",
    "    return nl\n",
    "print(normalise(list))\n",
    "print(standardise(list))"
   ]
  },
  {
   "cell_type": "code",
   "execution_count": null,
   "metadata": {},
   "outputs": [],
   "source": []
  }
 ],
 "metadata": {
  "kernelspec": {
   "display_name": "Python 3 (ipykernel)",
   "language": "python",
   "name": "python3"
  },
  "language_info": {
   "codemirror_mode": {
    "name": "ipython",
    "version": 3
   },
   "file_extension": ".py",
   "mimetype": "text/x-python",
   "name": "python",
   "nbconvert_exporter": "python",
   "pygments_lexer": "ipython3",
   "version": "3.9.7"
  }
 },
 "nbformat": 4,
 "nbformat_minor": 2
}
